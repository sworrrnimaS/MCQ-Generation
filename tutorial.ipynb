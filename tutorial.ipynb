{
 "cells": [
  {
   "cell_type": "markdown",
   "metadata": {},
   "source": [
    "<h1>Installing Dependencies</h1>"
   ]
  },
  {
   "cell_type": "code",
   "execution_count": 1,
   "metadata": {},
   "outputs": [
    {
     "name": "stdout",
     "output_type": "stream",
     "text": [
      "Requirement already satisfied: spacy in c:\\users\\binay\\anaconda3\\lib\\site-packages (3.7.4)\n",
      "Requirement already satisfied: spacy-legacy<3.1.0,>=3.0.11 in c:\\users\\binay\\anaconda3\\lib\\site-packages (from spacy) (3.0.12)\n",
      "Requirement already satisfied: spacy-loggers<2.0.0,>=1.0.0 in c:\\users\\binay\\anaconda3\\lib\\site-packages (from spacy) (1.0.5)\n",
      "Requirement already satisfied: murmurhash<1.1.0,>=0.28.0 in c:\\users\\binay\\anaconda3\\lib\\site-packages (from spacy) (1.0.10)\n",
      "Requirement already satisfied: cymem<2.1.0,>=2.0.2 in c:\\users\\binay\\anaconda3\\lib\\site-packages (from spacy) (2.0.8)\n",
      "Requirement already satisfied: preshed<3.1.0,>=3.0.2 in c:\\users\\binay\\anaconda3\\lib\\site-packages (from spacy) (3.0.9)\n",
      "Requirement already satisfied: thinc<8.3.0,>=8.2.2 in c:\\users\\binay\\anaconda3\\lib\\site-packages (from spacy) (8.2.3)\n",
      "Requirement already satisfied: wasabi<1.2.0,>=0.9.1 in c:\\users\\binay\\anaconda3\\lib\\site-packages (from spacy) (1.1.2)\n",
      "Requirement already satisfied: srsly<3.0.0,>=2.4.3 in c:\\users\\binay\\anaconda3\\lib\\site-packages (from spacy) (2.4.8)\n",
      "Requirement already satisfied: catalogue<2.1.0,>=2.0.6 in c:\\users\\binay\\anaconda3\\lib\\site-packages (from spacy) (2.0.10)\n",
      "Requirement already satisfied: weasel<0.4.0,>=0.1.0 in c:\\users\\binay\\anaconda3\\lib\\site-packages (from spacy) (0.3.4)\n",
      "Requirement already satisfied: typer<0.10.0,>=0.3.0 in c:\\users\\binay\\anaconda3\\lib\\site-packages (from spacy) (0.9.4)\n",
      "Requirement already satisfied: smart-open<7.0.0,>=5.2.1 in c:\\users\\binay\\anaconda3\\lib\\site-packages (from spacy) (5.2.1)\n",
      "Requirement already satisfied: tqdm<5.0.0,>=4.38.0 in c:\\users\\binay\\anaconda3\\lib\\site-packages (from spacy) (4.65.0)\n",
      "Requirement already satisfied: requests<3.0.0,>=2.13.0 in c:\\users\\binay\\anaconda3\\lib\\site-packages (from spacy) (2.31.0)\n",
      "Requirement already satisfied: pydantic!=1.8,!=1.8.1,<3.0.0,>=1.7.4 in c:\\users\\binay\\anaconda3\\lib\\site-packages (from spacy) (1.10.8)\n",
      "Requirement already satisfied: jinja2 in c:\\users\\binay\\anaconda3\\lib\\site-packages (from spacy) (3.1.2)\n",
      "Requirement already satisfied: setuptools in c:\\users\\binay\\anaconda3\\lib\\site-packages (from spacy) (70.0.0)\n",
      "Requirement already satisfied: packaging>=20.0 in c:\\users\\binay\\appdata\\roaming\\python\\python311\\site-packages (from spacy) (24.0)\n",
      "Requirement already satisfied: langcodes<4.0.0,>=3.2.0 in c:\\users\\binay\\anaconda3\\lib\\site-packages (from spacy) (3.4.0)\n",
      "Requirement already satisfied: numpy>=1.19.0 in c:\\users\\binay\\anaconda3\\lib\\site-packages (from spacy) (1.24.4)\n",
      "Requirement already satisfied: language-data>=1.2 in c:\\users\\binay\\anaconda3\\lib\\site-packages (from langcodes<4.0.0,>=3.2.0->spacy) (1.2.0)\n",
      "Requirement already satisfied: typing-extensions>=4.2.0 in c:\\users\\binay\\appdata\\roaming\\python\\python311\\site-packages (from pydantic!=1.8,!=1.8.1,<3.0.0,>=1.7.4->spacy) (4.11.0)\n",
      "Requirement already satisfied: charset-normalizer<4,>=2 in c:\\users\\binay\\anaconda3\\lib\\site-packages (from requests<3.0.0,>=2.13.0->spacy) (2.0.4)\n",
      "Requirement already satisfied: idna<4,>=2.5 in c:\\users\\binay\\anaconda3\\lib\\site-packages (from requests<3.0.0,>=2.13.0->spacy) (3.4)\n",
      "Requirement already satisfied: urllib3<3,>=1.21.1 in c:\\users\\binay\\anaconda3\\lib\\site-packages (from requests<3.0.0,>=2.13.0->spacy) (1.26.16)\n",
      "Requirement already satisfied: certifi>=2017.4.17 in c:\\users\\binay\\anaconda3\\lib\\site-packages (from requests<3.0.0,>=2.13.0->spacy) (2024.2.2)\n",
      "Requirement already satisfied: blis<0.8.0,>=0.7.8 in c:\\users\\binay\\anaconda3\\lib\\site-packages (from thinc<8.3.0,>=8.2.2->spacy) (0.7.11)\n",
      "Requirement already satisfied: confection<1.0.0,>=0.0.1 in c:\\users\\binay\\anaconda3\\lib\\site-packages (from thinc<8.3.0,>=8.2.2->spacy) (0.1.4)\n",
      "Requirement already satisfied: colorama in c:\\users\\binay\\appdata\\roaming\\python\\python311\\site-packages (from tqdm<5.0.0,>=4.38.0->spacy) (0.4.6)\n",
      "Requirement already satisfied: click<9.0.0,>=7.1.1 in c:\\users\\binay\\anaconda3\\lib\\site-packages (from typer<0.10.0,>=0.3.0->spacy) (8.0.4)\n",
      "Requirement already satisfied: cloudpathlib<0.17.0,>=0.7.0 in c:\\users\\binay\\anaconda3\\lib\\site-packages (from weasel<0.4.0,>=0.1.0->spacy) (0.16.0)\n",
      "Requirement already satisfied: MarkupSafe>=2.0 in c:\\users\\binay\\anaconda3\\lib\\site-packages (from jinja2->spacy) (2.1.1)\n",
      "Requirement already satisfied: marisa-trie>=0.7.7 in c:\\users\\binay\\anaconda3\\lib\\site-packages (from language-data>=1.2->langcodes<4.0.0,>=3.2.0->spacy) (1.1.1)\n"
     ]
    }
   ],
   "source": [
    "! pip install spacy"
   ]
  },
  {
   "cell_type": "code",
   "execution_count": 2,
   "metadata": {},
   "outputs": [
    {
     "name": "stdout",
     "output_type": "stream",
     "text": [
      "Collecting en-core-web-sm==3.7.1\n",
      "  Using cached https://github.com/explosion/spacy-models/releases/download/en_core_web_sm-3.7.1/en_core_web_sm-3.7.1-py3-none-any.whl (12.8 MB)\n",
      "Requirement already satisfied: spacy<3.8.0,>=3.7.2 in c:\\users\\binay\\anaconda3\\lib\\site-packages (from en-core-web-sm==3.7.1) (3.7.4)\n",
      "Requirement already satisfied: spacy-legacy<3.1.0,>=3.0.11 in c:\\users\\binay\\anaconda3\\lib\\site-packages (from spacy<3.8.0,>=3.7.2->en-core-web-sm==3.7.1) (3.0.12)\n",
      "Requirement already satisfied: spacy-loggers<2.0.0,>=1.0.0 in c:\\users\\binay\\anaconda3\\lib\\site-packages (from spacy<3.8.0,>=3.7.2->en-core-web-sm==3.7.1) (1.0.5)\n",
      "Requirement already satisfied: murmurhash<1.1.0,>=0.28.0 in c:\\users\\binay\\anaconda3\\lib\\site-packages (from spacy<3.8.0,>=3.7.2->en-core-web-sm==3.7.1) (1.0.10)\n",
      "Requirement already satisfied: cymem<2.1.0,>=2.0.2 in c:\\users\\binay\\anaconda3\\lib\\site-packages (from spacy<3.8.0,>=3.7.2->en-core-web-sm==3.7.1) (2.0.8)\n",
      "Requirement already satisfied: preshed<3.1.0,>=3.0.2 in c:\\users\\binay\\anaconda3\\lib\\site-packages (from spacy<3.8.0,>=3.7.2->en-core-web-sm==3.7.1) (3.0.9)\n",
      "Requirement already satisfied: thinc<8.3.0,>=8.2.2 in c:\\users\\binay\\anaconda3\\lib\\site-packages (from spacy<3.8.0,>=3.7.2->en-core-web-sm==3.7.1) (8.2.3)\n",
      "Requirement already satisfied: wasabi<1.2.0,>=0.9.1 in c:\\users\\binay\\anaconda3\\lib\\site-packages (from spacy<3.8.0,>=3.7.2->en-core-web-sm==3.7.1) (1.1.2)\n",
      "Requirement already satisfied: srsly<3.0.0,>=2.4.3 in c:\\users\\binay\\anaconda3\\lib\\site-packages (from spacy<3.8.0,>=3.7.2->en-core-web-sm==3.7.1) (2.4.8)\n",
      "Requirement already satisfied: catalogue<2.1.0,>=2.0.6 in c:\\users\\binay\\anaconda3\\lib\\site-packages (from spacy<3.8.0,>=3.7.2->en-core-web-sm==3.7.1) (2.0.10)\n",
      "Requirement already satisfied: weasel<0.4.0,>=0.1.0 in c:\\users\\binay\\anaconda3\\lib\\site-packages (from spacy<3.8.0,>=3.7.2->en-core-web-sm==3.7.1) (0.3.4)\n",
      "Requirement already satisfied: typer<0.10.0,>=0.3.0 in c:\\users\\binay\\anaconda3\\lib\\site-packages (from spacy<3.8.0,>=3.7.2->en-core-web-sm==3.7.1) (0.9.4)\n",
      "Requirement already satisfied: smart-open<7.0.0,>=5.2.1 in c:\\users\\binay\\anaconda3\\lib\\site-packages (from spacy<3.8.0,>=3.7.2->en-core-web-sm==3.7.1) (5.2.1)\n",
      "Requirement already satisfied: tqdm<5.0.0,>=4.38.0 in c:\\users\\binay\\anaconda3\\lib\\site-packages (from spacy<3.8.0,>=3.7.2->en-core-web-sm==3.7.1) (4.65.0)\n",
      "Requirement already satisfied: requests<3.0.0,>=2.13.0 in c:\\users\\binay\\anaconda3\\lib\\site-packages (from spacy<3.8.0,>=3.7.2->en-core-web-sm==3.7.1) (2.31.0)\n",
      "Requirement already satisfied: pydantic!=1.8,!=1.8.1,<3.0.0,>=1.7.4 in c:\\users\\binay\\anaconda3\\lib\\site-packages (from spacy<3.8.0,>=3.7.2->en-core-web-sm==3.7.1) (1.10.8)\n",
      "Requirement already satisfied: jinja2 in c:\\users\\binay\\anaconda3\\lib\\site-packages (from spacy<3.8.0,>=3.7.2->en-core-web-sm==3.7.1) (3.1.2)\n",
      "Requirement already satisfied: setuptools in c:\\users\\binay\\anaconda3\\lib\\site-packages (from spacy<3.8.0,>=3.7.2->en-core-web-sm==3.7.1) (70.0.0)\n",
      "Requirement already satisfied: packaging>=20.0 in c:\\users\\binay\\appdata\\roaming\\python\\python311\\site-packages (from spacy<3.8.0,>=3.7.2->en-core-web-sm==3.7.1) (24.0)\n",
      "Requirement already satisfied: langcodes<4.0.0,>=3.2.0 in c:\\users\\binay\\anaconda3\\lib\\site-packages (from spacy<3.8.0,>=3.7.2->en-core-web-sm==3.7.1) (3.4.0)\n",
      "Requirement already satisfied: numpy>=1.19.0 in c:\\users\\binay\\anaconda3\\lib\\site-packages (from spacy<3.8.0,>=3.7.2->en-core-web-sm==3.7.1) (1.24.4)\n",
      "Requirement already satisfied: language-data>=1.2 in c:\\users\\binay\\anaconda3\\lib\\site-packages (from langcodes<4.0.0,>=3.2.0->spacy<3.8.0,>=3.7.2->en-core-web-sm==3.7.1) (1.2.0)\n",
      "Requirement already satisfied: typing-extensions>=4.2.0 in c:\\users\\binay\\appdata\\roaming\\python\\python311\\site-packages (from pydantic!=1.8,!=1.8.1,<3.0.0,>=1.7.4->spacy<3.8.0,>=3.7.2->en-core-web-sm==3.7.1) (4.11.0)\n",
      "Requirement already satisfied: charset-normalizer<4,>=2 in c:\\users\\binay\\anaconda3\\lib\\site-packages (from requests<3.0.0,>=2.13.0->spacy<3.8.0,>=3.7.2->en-core-web-sm==3.7.1) (2.0.4)\n",
      "Requirement already satisfied: idna<4,>=2.5 in c:\\users\\binay\\anaconda3\\lib\\site-packages (from requests<3.0.0,>=2.13.0->spacy<3.8.0,>=3.7.2->en-core-web-sm==3.7.1) (3.4)\n",
      "Requirement already satisfied: urllib3<3,>=1.21.1 in c:\\users\\binay\\anaconda3\\lib\\site-packages (from requests<3.0.0,>=2.13.0->spacy<3.8.0,>=3.7.2->en-core-web-sm==3.7.1) (1.26.16)\n",
      "Requirement already satisfied: certifi>=2017.4.17 in c:\\users\\binay\\anaconda3\\lib\\site-packages (from requests<3.0.0,>=2.13.0->spacy<3.8.0,>=3.7.2->en-core-web-sm==3.7.1) (2024.2.2)\n",
      "Requirement already satisfied: blis<0.8.0,>=0.7.8 in c:\\users\\binay\\anaconda3\\lib\\site-packages (from thinc<8.3.0,>=8.2.2->spacy<3.8.0,>=3.7.2->en-core-web-sm==3.7.1) (0.7.11)\n",
      "Requirement already satisfied: confection<1.0.0,>=0.0.1 in c:\\users\\binay\\anaconda3\\lib\\site-packages (from thinc<8.3.0,>=8.2.2->spacy<3.8.0,>=3.7.2->en-core-web-sm==3.7.1) (0.1.4)\n",
      "Requirement already satisfied: colorama in c:\\users\\binay\\appdata\\roaming\\python\\python311\\site-packages (from tqdm<5.0.0,>=4.38.0->spacy<3.8.0,>=3.7.2->en-core-web-sm==3.7.1) (0.4.6)\n",
      "Requirement already satisfied: click<9.0.0,>=7.1.1 in c:\\users\\binay\\anaconda3\\lib\\site-packages (from typer<0.10.0,>=0.3.0->spacy<3.8.0,>=3.7.2->en-core-web-sm==3.7.1) (8.0.4)\n",
      "Requirement already satisfied: cloudpathlib<0.17.0,>=0.7.0 in c:\\users\\binay\\anaconda3\\lib\\site-packages (from weasel<0.4.0,>=0.1.0->spacy<3.8.0,>=3.7.2->en-core-web-sm==3.7.1) (0.16.0)\n",
      "Requirement already satisfied: MarkupSafe>=2.0 in c:\\users\\binay\\anaconda3\\lib\\site-packages (from jinja2->spacy<3.8.0,>=3.7.2->en-core-web-sm==3.7.1) (2.1.1)\n",
      "Requirement already satisfied: marisa-trie>=0.7.7 in c:\\users\\binay\\anaconda3\\lib\\site-packages (from language-data>=1.2->langcodes<4.0.0,>=3.2.0->spacy<3.8.0,>=3.7.2->en-core-web-sm==3.7.1) (1.1.1)\n",
      "\u001b[38;5;2m✔ Download and installation successful\u001b[0m\n",
      "You can now load the package via spacy.load('en_core_web_sm')\n"
     ]
    }
   ],
   "source": [
    "! python -m spacy download en_core_web_sm"
   ]
  },
  {
   "cell_type": "markdown",
   "metadata": {},
   "source": [
    "<h1>Importing Dependencies</h1>"
   ]
  },
  {
   "cell_type": "code",
   "execution_count": 3,
   "metadata": {},
   "outputs": [],
   "source": [
    "import spacy\n",
    "import random\n",
    "from collections import Counter\n"
   ]
  },
  {
   "cell_type": "code",
   "execution_count": 4,
   "metadata": {},
   "outputs": [],
   "source": [
    "# input text\n",
    "text = \"\"\"\n",
    "The Greek historian knew what he was talking about. The Nile River fed Egyptian civilization for hundreds of years. \n",
    "The Longest River the Nile is 4,160 miles long—the world’s longest river. It begins near the equator in Africa and \n",
    "flows north to the Mediterranean Sea. In the south the Nile churns with cataracts. A cataract is a waterfall. Near the \n",
    "sea the Nile branches into a delta. A delta is an area near a river’s mouth where the water deposits fine soil called silt. \n",
    "In the delta, the Nile divides into many streams. The river is called the upper Nile in the south and the lower Nile in the\n",
    "north. For centuries, heavy rains in Ethiopia caused the Nile to flood every summer. The floods deposited rich soil along the \n",
    "Nile’s shores. This soil was fertile, which means it was good for growing crops. Unlike the Tigris and Euphrates,\n",
    "the Nile River flooded at the same time every year, so farmers could predict when to plant their crops.\n",
    "\"\"\"\n",
    "\n",
    "num_questions = 5"
   ]
  },
  {
   "cell_type": "code",
   "execution_count": 5,
   "metadata": {},
   "outputs": [],
   "source": [
    "# Load the spacy model\n",
    "nlp = spacy.load('en_core_web_sm')"
   ]
  },
  {
   "cell_type": "markdown",
   "metadata": {},
   "source": [
    "<h1>Making Concept</h1>"
   ]
  },
  {
   "cell_type": "code",
   "execution_count": 6,
   "metadata": {},
   "outputs": [
    {
     "data": {
      "text/plain": [
       "\n",
       "The Greek historian knew what he was talking about. The Nile River fed Egyptian civilization for hundreds of years. \n",
       "The Longest River the Nile is 4,160 miles long—the world’s longest river. It begins near the equator in Africa and \n",
       "flows north to the Mediterranean Sea. In the south the Nile churns with cataracts. A cataract is a waterfall. Near the \n",
       "sea the Nile branches into a delta. A delta is an area near a river’s mouth where the water deposits fine soil called silt. \n",
       "In the delta, the Nile divides into many streams. The river is called the upper Nile in the south and the lower Nile in the\n",
       "north. For centuries, heavy rains in Ethiopia caused the Nile to flood every summer. The floods deposited rich soil along the \n",
       "Nile’s shores. This soil was fertile, which means it was good for growing crops. Unlike the Tigris and Euphrates,\n",
       "the Nile River flooded at the same time every year, so farmers could predict when to plant their crops."
      ]
     },
     "execution_count": 6,
     "metadata": {},
     "output_type": "execute_result"
    }
   ],
   "source": [
    "#text\n",
    "nlp(text)"
   ]
  },
  {
   "cell_type": "code",
   "execution_count": 7,
   "metadata": {},
   "outputs": [
    {
     "data": {
      "text/plain": [
       "['\\nThe Greek historian knew what he was talking about.',\n",
       " 'The Nile River fed Egyptian civilization for hundreds of years. \\n',\n",
       " 'The Longest River the Nile is 4,160 miles long—the world’s longest river.',\n",
       " 'It begins near the equator in Africa and \\nflows north to the Mediterranean Sea.',\n",
       " 'In the south the Nile churns with cataracts.',\n",
       " 'A cataract is a waterfall.',\n",
       " 'Near the \\nsea the Nile branches into a delta.',\n",
       " 'A delta is an area near a river’s mouth where the water deposits fine soil called silt. \\n',\n",
       " 'In the delta, the Nile divides into many streams.',\n",
       " 'The river is called the upper Nile in the south and the lower Nile in the\\nnorth.',\n",
       " 'For centuries, heavy rains in Ethiopia caused the Nile to flood every summer.',\n",
       " 'The floods deposited rich soil along the \\nNile’s shores.',\n",
       " 'This soil was fertile, which means it was good for growing crops.',\n",
       " 'Unlike the Tigris and Euphrates,\\nthe Nile River flooded at the same time every year, so farmers could predict when to plant their crops.\\n']"
      ]
     },
     "execution_count": 7,
     "metadata": {},
     "output_type": "execute_result"
    }
   ],
   "source": [
    "# Process the text with spaCy\n",
    "doc =  nlp(text)\n",
    "\n",
    "#each sentences one by one each line ma dekhaucha i.e. Extract sentences from the text\n",
    "sentences = [sent.text for sent in doc.sents] \n",
    "sentences\n",
    "\n",
    "# len([sent for sent in doc.sents])\n"
   ]
  },
  {
   "cell_type": "code",
   "execution_count": 8,
   "metadata": {},
   "outputs": [
    {
     "data": {
      "text/plain": [
       "['In the south the Nile churns with cataracts.',\n",
       " 'The floods deposited rich soil along the \\nNile’s shores.',\n",
       " '\\nThe Greek historian knew what he was talking about.',\n",
       " 'Near the \\nsea the Nile branches into a delta.',\n",
       " 'Unlike the Tigris and Euphrates,\\nthe Nile River flooded at the same time every year, so farmers could predict when to plant their crops.\\n']"
      ]
     },
     "execution_count": 8,
     "metadata": {},
     "output_type": "execute_result"
    }
   ],
   "source": [
    "# Randomly select sentences to form questions\n",
    "selected_sentences=random.sample(sentences,min(num_questions,len(sentences)))\n",
    "selected_sentences\n",
    "# min(num_questions,len(sentences))"
   ]
  },
  {
   "cell_type": "code",
   "execution_count": 9,
   "metadata": {},
   "outputs": [],
   "source": [
    "mcqs = []\n",
    "# Generate MCQs for each selected sentence\n",
    "for sentence in selected_sentences:\n",
    "  sentence = sentence.lower() #yo garena bhane capital wala noun dekhaudaina\n",
    "  # process with spacy (sentence)\n",
    "  sent_doc = nlp(sentence)\n",
    "  # Extract entities(nouns) from sentence\n",
    "  nouns = [token.text for token in sent_doc if token.pos_ == \"NOUN\"] #pos = parts of speech\n",
    "  \n",
    "  # to generate proper noun\n",
    "  if len(nouns) < 2:\n",
    "    continue\n",
    "\n",
    "  # Count the occurrence of each noun\n",
    "  noun_counts = Counter(nouns)\n",
    "  # print(noun_counts)\n",
    "\n",
    " \n",
    "  # extract subject from the noun list\n",
    "  if noun_counts:\n",
    "    subject = noun_counts.most_common(1)[0][0]\n",
    "    # print(subject)\n",
    "\n",
    "    answer_choices = [subject]\n",
    "   \n",
    "    # Generate question in a question way\n",
    "    question_stem = sentence.replace(subject,\"_________\")\n",
    "    # print(question_stem)\n",
    "\n",
    "    for _ in range(3):\n",
    "      distractor = random.choice(list(set(nouns) -  set([subject]))) #for unique we used set\n",
    "      answer_choices.append(distractor)\n",
    "    # print(answer_choices)\n",
    "\n",
    "    random.shuffle(answer_choices) #so that it wont be obvious that 1st one is the answer\n",
    "   \n",
    "    correct_answer = chr(64 + answer_choices.index(subject) + 1) # to conver index to letter, we can use this formula\n",
    "\n",
    "    mcqs.append((question_stem,answer_choices,correct_answer))\n",
    "\n",
    "\n",
    "\n",
    "\n",
    "\n",
    "  "
   ]
  },
  {
   "cell_type": "code",
   "execution_count": 10,
   "metadata": {},
   "outputs": [
    {
     "data": {
      "text/plain": [
       "[('in the _________ the nile churns with cataracts.',\n",
       "  ['cataracts', 'south', 'cataracts', 'cataracts'],\n",
       "  'B'),\n",
       " ('the _________ deposited rich soil along the \\nnile’s shores.',\n",
       "  ['floods', 'soil', 'soil', 'soil'],\n",
       "  'A'),\n",
       " ('near the \\n_________ the nile branches into a delta.',\n",
       "  ['branches', 'delta', 'sea', 'branches'],\n",
       "  'C'),\n",
       " ('unlike the _________ and euphrates,\\nthe nile river flooded at the same time every year, so farmers could predict when to plant their crops.\\n',\n",
       "  ['year', 'year', 'tigris', 'year'],\n",
       "  'C')]"
      ]
     },
     "execution_count": 10,
     "metadata": {},
     "output_type": "execute_result"
    }
   ],
   "source": [
    "mcqs"
   ]
  },
  {
   "cell_type": "markdown",
   "metadata": {},
   "source": [
    "<h1>Overall Concept of MCQ put in a FUNCTION</h1>"
   ]
  },
  {
   "cell_type": "code",
   "execution_count": 11,
   "metadata": {},
   "outputs": [],
   "source": [
    "\n",
    "def generate_mcqs(text, num_questions=5):\n",
    "    # text = clean_text(text)\n",
    "    if text is None:\n",
    "        return []\n",
    "\n",
    "    # Process the text with spaCy\n",
    "    doc = nlp(text)\n",
    "\n",
    "    # Extract sentences from the text\n",
    "    sentences = [sent.text for sent in doc.sents]\n",
    "\n",
    "    # Randomly select sentences to form questions\n",
    "    selected_sentences = random.sample(sentences, min(num_questions, len(sentences)))\n",
    "\n",
    "    # Initialize list to store generated MCQs\n",
    "    mcqs = []\n",
    "\n",
    "    # Generate MCQs for each selected sentence\n",
    "    for sentence in selected_sentences:\n",
    "        # Process the sentence with spaCy\n",
    "        sent_doc = nlp(sentence)\n",
    "\n",
    "        # Extract entities (nouns) from the sentence\n",
    "        nouns = [token.text for token in sent_doc if token.pos_ == \"NOUN\"]\n",
    "\n",
    "        # Ensure there are enough nouns to generate MCQs\n",
    "        if len(nouns) < 2:\n",
    "            continue\n",
    "\n",
    "        # Count the occurrence of each noun\n",
    "        noun_counts = Counter(nouns)\n",
    "\n",
    "        # Select the most common noun as the subject of the question\n",
    "        if noun_counts:\n",
    "            subject = noun_counts.most_common(1)[0][0]\n",
    "\n",
    "            # Generate the question stem\n",
    "            question_stem = sentence.replace(subject, \"_______\")\n",
    "\n",
    "            # Generate answer choices\n",
    "            answer_choices = [subject]\n",
    "\n",
    "            # Add some random words from the text as distractors\n",
    "            \n",
    "            distractors = list(set(nouns) - set([subject]))\n",
    "\n",
    "            # Ensure there are at least three distractors\n",
    "            while len(distractors) < 3:\n",
    "                distractors.append(\"[Distractor]\") # Placeholder for missing distractors\n",
    "           \n",
    "            random.shuffle(distractors)\n",
    "            for distractor in distractors[:3]:\n",
    "                answer_choices.append(distractor)\n",
    "\n",
    "            # Shuffle the answer choices\n",
    "            random.shuffle(answer_choices)\n",
    "\n",
    "            # Append the generated MCQ to the list\n",
    "            correct_answer = chr(64 + answer_choices.index(subject) + 1)  # Convert index to letter\n",
    "            mcqs.append((question_stem, answer_choices, correct_answer))\n",
    "\n",
    "    return mcqs\n",
    "    \n",
    "    \n",
    "    "
   ]
  },
  {
   "cell_type": "markdown",
   "metadata": {},
   "source": [
    "<h1>Testing the FUNCTION</h2>"
   ]
  },
  {
   "cell_type": "code",
   "execution_count": 12,
   "metadata": {},
   "outputs": [],
   "source": [
    "text = '''Organic chemistry is a branch of chemistry that focuses on the study of carbon-containing compounds and their properties, structures, and reactions. Carbon's unique ability to form stable bonds with other carbon atoms and a wide variety of elements, including hydrogen, oxygen, nitrogen, and halogens, results in an immense diversity of organic compounds. These compounds range from simple molecules like methane (CH₄) to complex macromolecules such as proteins and DNA, which are essential to life. A central concept in organic chemistry is the functional group, which is a specific grouping of atoms within a molecule that imparts characteristic chemical reactivity and properties. Common functional groups include hydroxyl groups (-OH), carboxyl groups (-COOH), amino groups (-NH₂), and many others. Organic reactions often involve the making and breaking of bonds within these functional groups, leading to the synthesis of new compounds. The study of organic chemistry is crucial for many industries, including pharmaceuticals, petrochemicals, and agriculture. It plays a key role in the development of new medications, synthetic fibers, plastics, and other materials. Organic chemists employ a variety of techniques, such as spectroscopy and chromatography, to analyze and characterize compounds, allowing for the precise manipulation of molecular structures to achieve desired chemical outcomes. This field continues to evolve, driving innovations that impact many aspects of modern life.'''\n",
    "\n",
    "\n"
   ]
  },
  {
   "cell_type": "markdown",
   "metadata": {},
   "source": [
    "<h2>Method 1</h2>"
   ]
  },
  {
   "cell_type": "code",
   "execution_count": 15,
   "metadata": {},
   "outputs": [
    {
     "name": "stdout",
     "output_type": "stream",
     "text": [
      "Q1:Organic _______ is a branch of _______ that focuses on the study of carbon-containing compounds and their properties, structures, and reactions.\n",
      "                              \n",
      "A:study\n",
      "B:properties\n",
      "C:structures\n",
      "D:chemistry\n",
      "Correct Answer is: D\n",
      "___________________________________________________________________\n",
      "Q2:These _______ range from simple molecules like methane (CH₄) to complex macromolecules such as proteins and DNA, which are essential to life.\n",
      "                              \n",
      "A:life\n",
      "B:DNA\n",
      "C:compounds\n",
      "D:proteins\n",
      "Correct Answer is: C\n",
      "___________________________________________________________________\n",
      "Q3:Organic _______ often involve the making and breaking of bonds within these functional groups, leading to the synthesis of new compounds.\n",
      "                              \n",
      "A:groups\n",
      "B:bonds\n",
      "C:reactions\n",
      "D:breaking\n",
      "Correct Answer is: C\n",
      "___________________________________________________________________\n",
      "Q4:Organic _______ employ a variety of techniques, such as spectroscopy and chromatography, to analyze and characterize compounds, allowing for the precise manipulation of molecular structures to achieve desired chemical outcomes.\n",
      "                              \n",
      "A:compounds\n",
      "B:outcomes\n",
      "C:chemists\n",
      "D:variety\n",
      "Correct Answer is: C\n",
      "___________________________________________________________________\n",
      "Q5:Common functional _______ include hydroxyl _______ (-OH), carboxyl _______ (-COOH), amino _______ (-NH₂), and many others.\n",
      "                              \n",
      "A:groups\n",
      "B:amino\n",
      "C:others\n",
      "D:-COOH\n",
      "Correct Answer is: A\n",
      "___________________________________________________________________\n",
      "Q6:The _______ of organic chemistry is crucial for many industries, including pharmaceuticals, petrochemicals, and agriculture.\n",
      "                              \n",
      "A:agriculture\n",
      "B:pharmaceuticals\n",
      "C:study\n",
      "D:industries\n",
      "Correct Answer is: C\n",
      "___________________________________________________________________\n",
      "Q7:This _______ continues to evolve, driving innovations that impact many aspects of modern life.\n",
      "                              \n",
      "A:aspects\n",
      "B:innovations\n",
      "C:life\n",
      "D:field\n",
      "Correct Answer is: D\n",
      "___________________________________________________________________\n"
     ]
    }
   ],
   "source": [
    "results = generate_mcqs(text,num_questions=7)\n",
    "for i,mcq in enumerate(results):\n",
    "  question_stem,answer_choices,correct_answer = mcq\n",
    "  print(f'Q{i+1}:{question_stem}')\n",
    "  print('                              ')\n",
    "\n",
    "  for j,choices in enumerate(answer_choices):\n",
    "    print(f'{chr(64+j+1)}:{choices}')\n",
    "\n",
    "  print(f'Correct Answer is: {correct_answer}')\n",
    "  print(f'___________________________________________________________________')\n",
    "\n",
    " \n",
    "\n",
    "\n",
    "  "
   ]
  },
  {
   "cell_type": "markdown",
   "metadata": {},
   "source": [
    "<h2>Method 2</h2>"
   ]
  },
  {
   "cell_type": "code",
   "execution_count": 14,
   "metadata": {},
   "outputs": [
    {
     "name": "stdout",
     "output_type": "stream",
     "text": [
      "Question 1 : This _______ continues to evolve, driving innovations that impact many aspects of modern life.\n",
      "Options:\n",
      "a) life\n",
      "b) innovations\n",
      "c) field\n",
      "d) aspects\n",
      "Correct Answer: C\n",
      "\n",
      "\n",
      "Question 2 : It plays a key _______ in the development of new medications, synthetic fibers, plastics, and other materials.\n",
      "Options:\n",
      "a) medications\n",
      "b) fibers\n",
      "c) development\n",
      "d) role\n",
      "Correct Answer: D\n",
      "\n",
      "\n",
      "Question 3 : Organic _______ often involve the making and breaking of bonds within these functional groups, leading to the synthesis of new compounds.\n",
      "Options:\n",
      "a) making\n",
      "b) compounds\n",
      "c) reactions\n",
      "d) synthesis\n",
      "Correct Answer: C\n",
      "\n",
      "\n",
      "Question 4 : Organic _______ is a branch of _______ that focuses on the study of carbon-containing compounds and their properties, structures, and reactions.\n",
      "Options:\n",
      "a) compounds\n",
      "b) chemistry\n",
      "c) reactions\n",
      "d) carbon\n",
      "Correct Answer: B\n",
      "\n",
      "\n",
      "Question 5 : Common functional _______ include hydroxyl _______ (-OH), carboxyl _______ (-COOH), amino _______ (-NH₂), and many others.\n",
      "Options:\n",
      "a) groups\n",
      "b) others\n",
      "c) -COOH\n",
      "d) amino\n",
      "Correct Answer: A\n",
      "\n",
      "\n",
      "Question 6 : Carbon's unique _______ to form stable bonds with other carbon atoms and a wide variety of elements, including hydrogen, oxygen, nitrogen, and halogens, results in an immense diversity of organic compounds.\n",
      "Options:\n",
      "a) results\n",
      "b) bonds\n",
      "c) ability\n",
      "d) elements\n",
      "Correct Answer: C\n",
      "\n",
      "\n",
      "Question 7 : The _______ of organic chemistry is crucial for many industries, including pharmaceuticals, petrochemicals, and agriculture.\n",
      "Options:\n",
      "a) study\n",
      "b) pharmaceuticals\n",
      "c) petrochemicals\n",
      "d) agriculture\n",
      "Correct Answer: A\n",
      "\n",
      "\n",
      "Question 8 : Organic _______ employ a variety of techniques, such as spectroscopy and chromatography, to analyze and characterize compounds, allowing for the precise manipulation of molecular structures to achieve desired chemical outcomes.\n",
      "Options:\n",
      "a) chemical\n",
      "b) variety\n",
      "c) chromatography\n",
      "d) chemists\n",
      "Correct Answer: D\n",
      "\n",
      "\n",
      "Question 9 : A central _______ in organic chemistry is the functional group, which is a specific grouping of atoms within a molecule that imparts characteristic chemical reactivity and properties.\n",
      "Options:\n",
      "a) grouping\n",
      "b) chemical\n",
      "c) concept\n",
      "d) chemistry\n",
      "Correct Answer: C\n",
      "\n",
      "\n",
      "Question 10 : These _______ range from simple molecules like methane (CH₄) to complex macromolecules such as proteins and DNA, which are essential to life.\n",
      "Options:\n",
      "a) macromolecules\n",
      "b) DNA\n",
      "c) molecules\n",
      "d) compounds\n",
      "Correct Answer: D\n",
      "\n",
      "\n"
     ]
    }
   ],
   "source": [
    "mcqs = generate_mcqs(text, num_questions=10)  # Pass the selected number of questions\n",
    "# Ensure each MCQ is formatted correctly as (question_stem, answer_choices, correct_answer)\n",
    "mcqs_with_index = [(i + 1, mcq) for i, mcq in enumerate(mcqs)]\n",
    "\n",
    "for question in mcqs_with_index:\n",
    "    print(\"Question\", question[0], \":\", question[1][0])\n",
    "    print(\"Options:\")\n",
    "    options = question[1][1]\n",
    "    for i, option in enumerate(options):\n",
    "        print(f\"{chr(97 + i)}) {option}\")\n",
    "    print(\"Correct Answer:\", question[1][2])\n",
    "    print(\"\\n\")"
   ]
  },
  {
   "cell_type": "code",
   "execution_count": null,
   "metadata": {},
   "outputs": [],
   "source": []
  }
 ],
 "metadata": {
  "kernelspec": {
   "display_name": "Python 3",
   "language": "python",
   "name": "python3"
  },
  "language_info": {
   "codemirror_mode": {
    "name": "ipython",
    "version": 3
   },
   "file_extension": ".py",
   "mimetype": "text/x-python",
   "name": "python",
   "nbconvert_exporter": "python",
   "pygments_lexer": "ipython3",
   "version": "3.11.5"
  }
 },
 "nbformat": 4,
 "nbformat_minor": 2
}
